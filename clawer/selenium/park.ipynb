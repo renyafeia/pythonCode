{
 "cells": [
  {
   "cell_type": "code",
   "execution_count": 1,
   "metadata": {
    "collapsed": true
   },
   "outputs": [],
   "source": [
    "#用python实现爬虫\n",
    "from selenium import webdriver\n",
    "\n",
    "url = 'http://hb.cnipai.com/park/'\n",
    "driver = webdriver.Chrome()\n",
    "\n",
    "driver.get(url)\n",
    "\n",
    "ele = driver.find_element_by_class_name('fact_list')\n",
    "\n",
    "\n",
    "\n",
    "\n",
    "\n"
   ]
  },
  {
   "cell_type": "code",
   "execution_count": 98,
   "metadata": {},
   "outputs": [
    {
     "name": "stdout",
     "output_type": "stream",
     "text": [
      "window.open('http://hb.cnipai.com/park/?gyyclass=0&keyword=&CY_id=0&city=0&page=2')\n"
     ]
    },
    {
     "ename": "WebDriverException",
     "evalue": "Message: unknown error: call function result missing 'value'\n  (Session info: chrome=76.0.3809.132)\n  (Driver info: chromedriver=2.30.477700 (0057494ad8732195794a7b32078424f92a5fce41),platform=Windows NT 10.0.18362 x86_64)\n",
     "output_type": "error",
     "traceback": [
      "\u001b[1;31m---------------------------------------------------------------------------\u001b[0m",
      "\u001b[1;31mWebDriverException\u001b[0m                        Traceback (most recent call last)",
      "\u001b[1;32m<ipython-input-98-174cbb63443b>\u001b[0m in \u001b[0;36m<module>\u001b[1;34m()\u001b[0m\n\u001b[0;32m      4\u001b[0m \u001b[0mjs\u001b[0m \u001b[1;33m=\u001b[0m \u001b[1;34m'window.open(\\''\u001b[0m\u001b[1;33m+\u001b[0m\u001b[0mnext_href\u001b[0m\u001b[1;33m+\u001b[0m\u001b[1;34m'\\')'\u001b[0m\u001b[1;33m\u001b[0m\u001b[0m\n\u001b[0;32m      5\u001b[0m \u001b[0mprint\u001b[0m\u001b[1;33m(\u001b[0m\u001b[0mjs\u001b[0m\u001b[1;33m)\u001b[0m\u001b[1;33m\u001b[0m\u001b[0m\n\u001b[1;32m----> 6\u001b[1;33m \u001b[0mdriver\u001b[0m\u001b[1;33m.\u001b[0m\u001b[0mexecute_script\u001b[0m\u001b[1;33m(\u001b[0m\u001b[0mjs\u001b[0m\u001b[1;33m)\u001b[0m\u001b[1;33m\u001b[0m\u001b[0m\n\u001b[0m",
      "\u001b[1;32mD:\\Anaconda3\\lib\\site-packages\\selenium\\webdriver\\remote\\webdriver.py\u001b[0m in \u001b[0;36mexecute_script\u001b[1;34m(self, script, *args)\u001b[0m\n\u001b[0;32m    634\u001b[0m         return self.execute(command, {\n\u001b[0;32m    635\u001b[0m             \u001b[1;34m'script'\u001b[0m\u001b[1;33m:\u001b[0m \u001b[0mscript\u001b[0m\u001b[1;33m,\u001b[0m\u001b[1;33m\u001b[0m\u001b[0m\n\u001b[1;32m--> 636\u001b[1;33m             'args': converted_args})['value']\n\u001b[0m\u001b[0;32m    637\u001b[0m \u001b[1;33m\u001b[0m\u001b[0m\n\u001b[0;32m    638\u001b[0m     \u001b[1;32mdef\u001b[0m \u001b[0mexecute_async_script\u001b[0m\u001b[1;33m(\u001b[0m\u001b[0mself\u001b[0m\u001b[1;33m,\u001b[0m \u001b[0mscript\u001b[0m\u001b[1;33m,\u001b[0m \u001b[1;33m*\u001b[0m\u001b[0margs\u001b[0m\u001b[1;33m)\u001b[0m\u001b[1;33m:\u001b[0m\u001b[1;33m\u001b[0m\u001b[0m\n",
      "\u001b[1;32mD:\\Anaconda3\\lib\\site-packages\\selenium\\webdriver\\remote\\webdriver.py\u001b[0m in \u001b[0;36mexecute\u001b[1;34m(self, driver_command, params)\u001b[0m\n\u001b[0;32m    319\u001b[0m         \u001b[0mresponse\u001b[0m \u001b[1;33m=\u001b[0m \u001b[0mself\u001b[0m\u001b[1;33m.\u001b[0m\u001b[0mcommand_executor\u001b[0m\u001b[1;33m.\u001b[0m\u001b[0mexecute\u001b[0m\u001b[1;33m(\u001b[0m\u001b[0mdriver_command\u001b[0m\u001b[1;33m,\u001b[0m \u001b[0mparams\u001b[0m\u001b[1;33m)\u001b[0m\u001b[1;33m\u001b[0m\u001b[0m\n\u001b[0;32m    320\u001b[0m         \u001b[1;32mif\u001b[0m \u001b[0mresponse\u001b[0m\u001b[1;33m:\u001b[0m\u001b[1;33m\u001b[0m\u001b[0m\n\u001b[1;32m--> 321\u001b[1;33m             \u001b[0mself\u001b[0m\u001b[1;33m.\u001b[0m\u001b[0merror_handler\u001b[0m\u001b[1;33m.\u001b[0m\u001b[0mcheck_response\u001b[0m\u001b[1;33m(\u001b[0m\u001b[0mresponse\u001b[0m\u001b[1;33m)\u001b[0m\u001b[1;33m\u001b[0m\u001b[0m\n\u001b[0m\u001b[0;32m    322\u001b[0m             response['value'] = self._unwrap_value(\n\u001b[0;32m    323\u001b[0m                 response.get('value', None))\n",
      "\u001b[1;32mD:\\Anaconda3\\lib\\site-packages\\selenium\\webdriver\\remote\\errorhandler.py\u001b[0m in \u001b[0;36mcheck_response\u001b[1;34m(self, response)\u001b[0m\n\u001b[0;32m    240\u001b[0m                 \u001b[0malert_text\u001b[0m \u001b[1;33m=\u001b[0m \u001b[0mvalue\u001b[0m\u001b[1;33m[\u001b[0m\u001b[1;34m'alert'\u001b[0m\u001b[1;33m]\u001b[0m\u001b[1;33m.\u001b[0m\u001b[0mget\u001b[0m\u001b[1;33m(\u001b[0m\u001b[1;34m'text'\u001b[0m\u001b[1;33m)\u001b[0m\u001b[1;33m\u001b[0m\u001b[0m\n\u001b[0;32m    241\u001b[0m             \u001b[1;32mraise\u001b[0m \u001b[0mexception_class\u001b[0m\u001b[1;33m(\u001b[0m\u001b[0mmessage\u001b[0m\u001b[1;33m,\u001b[0m \u001b[0mscreen\u001b[0m\u001b[1;33m,\u001b[0m \u001b[0mstacktrace\u001b[0m\u001b[1;33m,\u001b[0m \u001b[0malert_text\u001b[0m\u001b[1;33m)\u001b[0m\u001b[1;33m\u001b[0m\u001b[0m\n\u001b[1;32m--> 242\u001b[1;33m         \u001b[1;32mraise\u001b[0m \u001b[0mexception_class\u001b[0m\u001b[1;33m(\u001b[0m\u001b[0mmessage\u001b[0m\u001b[1;33m,\u001b[0m \u001b[0mscreen\u001b[0m\u001b[1;33m,\u001b[0m \u001b[0mstacktrace\u001b[0m\u001b[1;33m)\u001b[0m\u001b[1;33m\u001b[0m\u001b[0m\n\u001b[0m\u001b[0;32m    243\u001b[0m \u001b[1;33m\u001b[0m\u001b[0m\n\u001b[0;32m    244\u001b[0m     \u001b[1;32mdef\u001b[0m \u001b[0m_value_or_default\u001b[0m\u001b[1;33m(\u001b[0m\u001b[0mself\u001b[0m\u001b[1;33m,\u001b[0m \u001b[0mobj\u001b[0m\u001b[1;33m,\u001b[0m \u001b[0mkey\u001b[0m\u001b[1;33m,\u001b[0m \u001b[0mdefault\u001b[0m\u001b[1;33m)\u001b[0m\u001b[1;33m:\u001b[0m\u001b[1;33m\u001b[0m\u001b[0m\n",
      "\u001b[1;31mWebDriverException\u001b[0m: Message: unknown error: call function result missing 'value'\n  (Session info: chrome=76.0.3809.132)\n  (Driver info: chromedriver=2.30.477700 (0057494ad8732195794a7b32078424f92a5fce41),platform=Windows NT 10.0.18362 x86_64)\n"
     ]
    }
   ],
   "source": [
    "spell_href = driver.find_element_by_link_text('末页').get_attribute('href').split('&page')[0]\n",
    "next_href = spell_href + '&page='+str(2)\n",
    "#print(next_href)\n",
    "js = 'window.open(\\''+next_href+'\\')'\n",
    "print(js)\n",
    "driver.execute_script(js)\n"
   ]
  },
  {
   "cell_type": "code",
   "execution_count": 2,
   "metadata": {},
   "outputs": [],
   "source": [
    "href = 'http://hb.cnipai.com/park/8425/'\n",
    "js = 'window.open(\\'' + href + '\\')'\n",
    "driver.execute_script(js)\n",
    "it = driver.window_handles\n",
    "driver.switch_to.window(it[1])\n"
   ]
  },
  {
   "cell_type": "code",
   "execution_count": 6,
   "metadata": {},
   "outputs": [
    {
     "name": "stdout",
     "output_type": "stream",
     "text": [
      "False\n"
     ]
    }
   ],
   "source": [
    "a = True\n",
    "print( not a)"
   ]
  },
  {
   "cell_type": "code",
   "execution_count": 103,
   "metadata": {
    "collapsed": true
   },
   "outputs": [],
   "source": [
    "it = driver.window_handles\n",
    "\n",
    "driver.switch_to.window(it[0])#这是前一个页面it[1]是新打开的页面\n",
    "driver.close()#关闭上一个页面\n",
    "driver.switch_to.window(it[1])#切换到新打开的窗口"
   ]
  },
  {
   "cell_type": "code",
   "execution_count": 68,
   "metadata": {},
   "outputs": [
    {
     "name": "stdout",
     "output_type": "stream",
     "text": [
      "京东（香河）环保产业园\n",
      "省级\n",
      "WEB：http://hb.cnipai.com/park/8425/\n",
      "41.9平方公里\n"
     ]
    }
   ],
   "source": [
    "park_name = ele.find_element_by_class_name('fact_tit').find_element_by_tag_name('a').text\n",
    "\n",
    "#查找符合条件的第几个 find_elements_by...[i](第一个的下标是0)\n",
    "level = ele.find_element_by_class_name('fact_tit').find_elements_by_tag_name('span')[1].text\n",
    "address = ele.find_element_by_class_name('fact_date').text\n",
    "area = ele.find_element_by_class_name('fact_area').text\n",
    "\n",
    "print(park_name)\n",
    "print(level)\n",
    "print(address)\n",
    "print(area)\n",
    "#driver.close()"
   ]
  },
  {
   "cell_type": "code",
   "execution_count": 106,
   "metadata": {
    "collapsed": true
   },
   "outputs": [],
   "source": [
    "#爬取第二层页面的详细信息\n",
    "#park_link = ele.find_element_by_class_name('fact_tit').find_element_by_tag_name('a').get_attribute('href')\n",
    "#print(park_link)\n",
    "\n",
    "park_link = ele.find_element_by_class_name('fact_tit').find_element_by_tag_name('a')\n",
    "\n",
    "park_link.click()\n",
    "\n",
    "#实现页面的切换\n",
    "\n",
    "#获得当前页面的窗口句柄\n",
    "current = driver.current_window_handle\n",
    "\n",
    "#获得当前所有打开的窗口的句柄\n",
    "\n",
    "all_handles = driver.window_handles\n",
    "\n",
    "for handle in all_handles:\n",
    "    if handle != current:\n",
    "        driver.switch_to.window(handle)\n",
    "        \n",
    "\n",
    "\n"
   ]
  },
  {
   "cell_type": "code",
   "execution_count": 107,
   "metadata": {},
   "outputs": [
    {
     "name": "stdout",
     "output_type": "stream",
     "text": [
      "0\n"
     ]
    }
   ],
   "source": [
    "driver.title\n",
    "ele_all = driver.find_elements_by_class_name('informationli')\n",
    "\n",
    "#type(ele_all)\n",
    "#print(len(ele_all))\n",
    "\n",
    "mainIndustry = ''#主导产业\n",
    "infrastructure = ''#基础设施\n",
    "infrastructureInfo = '' #基础设施详细信息\n",
    "parkArea = '' #园区面积\n",
    "landPrice = ''#土地价格\n",
    "invest = ''#投资强度\n",
    "revenue = '' #税收要求\n",
    "carrieroperator = ''#运营商\n",
    "totalArea = ''\n",
    "alreadyArea = ''\n",
    "\n",
    "\n",
    "\n",
    "for i in range(0,len(ele_all)):\n",
    "    content = ele_all[i].find_element_by_class_name('inf_right').text.replace('\\n','-')\n",
    "    #print(content)\n",
    "    if i == 0:\n",
    "        mainIndustry = content\n",
    "    elif i == 1:\n",
    "        totalArea = content.split('平方公里')[0]\n",
    "        alreadyArea = content.split('平方公里')[1].split('已开发')[1]\n",
    "    elif i == 2:\n",
    "        landPrice = content.split('万')[0]\n",
    "        print(landPrice)\n",
    "    elif i == 3:\n",
    "        invest = content.split('万')[0]\n",
    "    elif i == 4:\n",
    "        revenue = content.split('万')[0]\n",
    "    elif i == 6:\n",
    "        carrieroperator = content\n",
    "\n",
    "        \n",
    "\n",
    "        \n",
    "\n",
    "        \n",
    "        \n",
    "       \n",
    "        "
   ]
  },
  {
   "cell_type": "code",
   "execution_count": 77,
   "metadata": {},
   "outputs": [
    {
     "name": "stdout",
     "output_type": "stream",
     "text": [
      "九通一平\n",
      "九通一平-供电-给水-污水-供热-蒸汽-道路-通讯-天然气-有线电视-土地平整\n"
     ]
    }
   ],
   "source": [
    "infrastructure = driver.find_element_by_class_name('informationli2').find_element_by_class_name('inf_right2').find_element_by_xpath('.//em').text\n",
    "\n",
    "infrastructureInfo = driver.find_element_by_class_name('informationli2').find_element_by_class_name('inf_right2').text.replace('\\n','-')\n",
    "\n",
    "print(infrastructure)\n",
    "print(infrastructureInfo)"
   ]
  },
  {
   "cell_type": "code",
   "execution_count": 85,
   "metadata": {
    "collapsed": true
   },
   "outputs": [],
   "source": [
    "\n",
    "\n",
    "driver.find_element_by_link_text('园区详情').click()\n"
   ]
  },
  {
   "cell_type": "code",
   "execution_count": 88,
   "metadata": {},
   "outputs": [
    {
     "name": "stdout",
     "output_type": "stream",
     "text": [
      "气候：香河县属于大陆性季风气候，四季分明。\n",
      "春季(3-5月)：少雨、多风、蒸发大，日照充足，回暖快，易于干旱。\n",
      "夏季(6-8月)：高温高湿，雨水集中。\n",
      "秋季(9-11月)：雨量骤减，天气晴爽。\n",
      "冬季(12-2月)：寒冷干燥，日照短，雨雪稀少，多北风。\n",
      "地质：香河县地处河北省中部略偏东，位于燕山南麓平原，地理位置为东经116°51′至117°12′，北纬39°37′至39°51′，位居河北省廊坊市东北部。四周相邻5县(市)，东与天津市宝坻区毗连，南隔青龙湾河与天津市武清区相望，西与北京市通州区为邻，北与三河市、大厂回族自治县接壤。全境呈枫叶形，东西最长25.5公里，南北最宽23.5公里，县界总长138.8公里，总面积458平方公里。\n",
      "大气：全境通过ISO14001国际环境质量体系认证\n",
      "水系：香河县四面环河，属海河水系。全县有主要行洪河道4条，分别为北运河、青龙湾河、潮白河、引泃入潮河，全县流域面积442平方公里，河道总长66公里，此外境内还有凤港减河(龙凤减河)、鵏池河、窝头河、牛牧屯引河等支流小河分布其间，加上干渠、支渠，初步建立起香河县洪、涝、旱、碱综合治理的水利工程体系。环保高地,生态新城\n",
      "崛起中的香河环保产业园\n",
      " 北京东南45公里，京哈直达\n",
      "国际化风范综合环保科技产业平台\n",
      "最具投资价值的京津冀1小时经济圈工业园区\n",
      "服务于京津冀都市圈的环保服务产业核心聚集区\n",
      "香河环保产业园区位于河北省廊坊市香河县，总规划面积为41.9平方公里,起步区8.8平方公里，被河北省政府批准为省级环保产业聚集园区。区位优势得天独厚——三面与京津接壤\n",
      "地处“京-津主轴” 地带，北京大七环东部穿过，是北京未来重要的发展区域和直接受益区域，是京津后花园，大北京黄金腹地。\n",
      "园区距北京市中心45公里，距离天津70公里，距离首都机场60公里，第二机场50公里，距离天津港70公里，是京津“一小时经济圈”的黄金节点。\n",
      "香河方圆500公里范围内有百万以上人口城市10余座，常住居民2亿多人，消费市场巨大，人工成本低。\n",
      "优越的区位决定了香河是“首都的卫星城”、“京津的后花园”，具备强大的可持续发展动力。为完善入园企业的投资环境，在基础设施建设方面，起步区内投入6亿多元，按照“高起点规划、高标准建设、高水平管理”的建设思路，完善功能，确保企业生产经营所需的水、电、路等设施配套到位，目前已达到企业入住的条件。\n",
      "1、道路：起步区已完成“三横三纵”共30公里的道路。\n",
      "2、供水：园区双安水厂日供水能力1万吨，可满足辖区供水108平方公里。\n",
      "3、供电：拥有110KV变电站，电力充足，可实现双路供电。\n",
      "4、污水处理：污水处理厂已建成，管道总长70千米，近期日处理能力1.5万吨/日，远期达到3万吨/日，出水水质达到国家一级A标准。\n",
      "5、供热：与上市央企华润燃气公司合作，为企业提供全方位的技术支持。\n",
      "6、通讯网络：通讯，通邮设施发达，园区拥有“010”区号。\n",
      "7、医疗：设有人民医院、中医院、心脑血管医院、气管哮喘医院等医疗机构。\n",
      "8、其它配套：香河环保产业园服务中心已投入使用、景观公路拓宽、“九通一平”升级等工程建设。\n"
     ]
    }
   ],
   "source": [
    "infoContent = ''\n",
    "eles = driver.find_elements_by_id('info_body')\n",
    "for ele in eles:\n",
    "    infoContent = infoContent +(ele.text)\n",
    "print(infoContent)"
   ]
  }
 ],
 "metadata": {
  "kernelspec": {
   "display_name": "Python 3",
   "language": "python",
   "name": "python3"
  },
  "language_info": {
   "codemirror_mode": {
    "name": "ipython",
    "version": 3
   },
   "file_extension": ".py",
   "mimetype": "text/x-python",
   "name": "python",
   "nbconvert_exporter": "python",
   "pygments_lexer": "ipython3",
   "version": "3.6.1"
  }
 },
 "nbformat": 4,
 "nbformat_minor": 2
}
