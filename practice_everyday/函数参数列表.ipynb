{
 "cells": [
  {
   "cell_type": "code",
   "execution_count": 1,
   "metadata": {},
   "outputs": [
    {
     "name": "stdout",
     "output_type": "stream",
     "text": [
      "hello world\n"
     ]
    }
   ],
   "source": [
    "#普通参数\n",
    "def fun(name):\n",
    "    print('hello',name)\n",
    "fun('world')"
   ]
  },
  {
   "cell_type": "code",
   "execution_count": 2,
   "metadata": {},
   "outputs": [
    {
     "name": "stdout",
     "output_type": "stream",
     "text": [
      "hello world 1 年\n"
     ]
    }
   ],
   "source": [
    "#默认参数\n",
    "def fun(name,age=1):\n",
    "    print('hello',name,age,'年')\n",
    "fun('world')"
   ]
  },
  {
   "cell_type": "code",
   "execution_count": 3,
   "metadata": {},
   "outputs": [
    {
     "name": "stdout",
     "output_type": "stream",
     "text": [
      "hello world 1 年\n",
      "('I', 'love', 'it')\n",
      "I\n",
      "love\n",
      "it\n"
     ]
    }
   ],
   "source": [
    "#元组参数\n",
    "def fun(name,age=1,*args):\n",
    "    print('hello',name,age,'年')\n",
    "    print(args)\n",
    "    for i in args:\n",
    "        print(i)\n",
    "fun('world',1,'I','love','it')"
   ]
  },
  {
   "cell_type": "code",
   "execution_count": 4,
   "metadata": {},
   "outputs": [
    {
     "name": "stdout",
     "output_type": "stream",
     "text": [
      "hello World 1 年\n",
      "('I', 'love', 'it')\n",
      "I\n",
      "love\n",
      "it\n",
      "{'my': 'jack', 'like': 'girl'}\n",
      "my : jack\n",
      "like : girl\n"
     ]
    }
   ],
   "source": [
    "#字典参数,要在最后\n",
    "def fun(name,age=1,*args,**kwargs):\n",
    "    print('hello',name,age,'年')\n",
    "    print(args)\n",
    "    for i in args:\n",
    "        print(i)\n",
    "    print(kwargs)\n",
    "    for m in kwargs:\n",
    "        print(m,':',kwargs[m])\n",
    "fun('World', 1, 'I', 'love', 'it', my='jack', like='girl')\n",
    "    "
   ]
  }
 ],
 "metadata": {
  "kernelspec": {
   "display_name": "Python 3",
   "language": "python",
   "name": "python3"
  },
  "language_info": {
   "codemirror_mode": {
    "name": "ipython",
    "version": 3
   },
   "file_extension": ".py",
   "mimetype": "text/x-python",
   "name": "python",
   "nbconvert_exporter": "python",
   "pygments_lexer": "ipython3",
   "version": "3.6.1"
  }
 },
 "nbformat": 4,
 "nbformat_minor": 2
}
