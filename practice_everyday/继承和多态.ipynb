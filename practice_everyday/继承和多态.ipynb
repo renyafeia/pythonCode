{
 "cells": [
  {
   "cell_type": "code",
   "execution_count": 4,
   "metadata": {
    "collapsed": true
   },
   "outputs": [],
   "source": [
    "class Animal(object):\n",
    "    def run(self):\n",
    "        print('Animal is running')\n"
   ]
  },
  {
   "cell_type": "code",
   "execution_count": 5,
   "metadata": {
    "collapsed": true
   },
   "outputs": [],
   "source": [
    "class Dog(Animal):\n",
    "    def run(self):\n",
    "        print('dog is running....')\n",
    "    \n",
    "    def eat(self):\n",
    "        print('eating meat....')\n",
    "class Cat(Animal):\n",
    "    pass\n"
   ]
  },
  {
   "cell_type": "code",
   "execution_count": 6,
   "metadata": {},
   "outputs": [
    {
     "name": "stdout",
     "output_type": "stream",
     "text": [
      "dog is running....\n",
      "Animal is running\n"
     ]
    }
   ],
   "source": [
    "dog = Dog()\n",
    "dog.run()\n",
    "\n",
    "cat = Cat()\n",
    "cat.run()"
   ]
  },
  {
   "cell_type": "code",
   "execution_count": null,
   "metadata": {
    "collapsed": true
   },
   "outputs": [],
   "source": [
    "当子类和父类都存在相同的run()方法时，我们说，子类run()覆盖了父类的run(),在代码运行的时候，总是会调用子类的run().这样，\n",
    "我们获得了继承的另一个好处：多态\n",
    "\n",
    "要理解什么是多态，我们首先要对数据类型再做一点说明。当我们定义一个class的时候，我们实际就定义了一种数据类型，\n",
    "我们定义的数据类型和python自带的数据类型，比如str，list和dict没什么两样\n",
    "a = list()#a是list类型\n",
    "b = Animal()#b是Animal类型\n",
    "c = Dog()#c是dog类型\n",
    "\n",
    "判断一个变量是否是某个类型可以用isinstance()判断：\n",
    "isinstance(a,list)\n",
    "isinstance(b,Animal)\n",
    "isinstance(c,Dog)\n",
    "isinstance(c,Animal)\n",
    "\n",
    "看来c不仅仅是Dog，c还是Animal！\n",
    "\n",
    "不过仔细想想，这是有道理的，因为Dog是从Animal继承下来的，当我们创建了一个Dog的实例c时，我们认为c的数据类型是Dog没错，但c同时也是Animal也没错，Dog本来就是Animal的一种！\n",
    "\n",
    "所以，在继承关系中，如果一个实例的数据类型是某个子类，那它的数据类型也可以被看做是父类。但是，反过来就不行：\n",
    "Dog可以看成Animal，但Animal不可以看成Dog。\n",
    "\n",
    "要理解多态的好处，我们还需要再编写一个函数，这个函数接受一个Animal类型的变量："
   ]
  },
  {
   "cell_type": "code",
   "execution_count": 7,
   "metadata": {
    "collapsed": true
   },
   "outputs": [],
   "source": [
    "def run_twice(animal):\n",
    "    animal.run()\n",
    "    animal.run()"
   ]
  },
  {
   "cell_type": "code",
   "execution_count": 8,
   "metadata": {},
   "outputs": [
    {
     "name": "stdout",
     "output_type": "stream",
     "text": [
      "Animal is running\n",
      "Animal is running\n"
     ]
    }
   ],
   "source": [
    "run_twice(Animal())"
   ]
  },
  {
   "cell_type": "code",
   "execution_count": 9,
   "metadata": {},
   "outputs": [
    {
     "name": "stdout",
     "output_type": "stream",
     "text": [
      "dog is running....\n",
      "dog is running....\n"
     ]
    }
   ],
   "source": [
    "run_twice(Dog())"
   ]
  }
 ],
 "metadata": {
  "kernelspec": {
   "display_name": "Python 3",
   "language": "python",
   "name": "python3"
  },
  "language_info": {
   "codemirror_mode": {
    "name": "ipython",
    "version": 3
   },
   "file_extension": ".py",
   "mimetype": "text/x-python",
   "name": "python",
   "nbconvert_exporter": "python",
   "pygments_lexer": "ipython3",
   "version": "3.6.1"
  }
 },
 "nbformat": 4,
 "nbformat_minor": 2
}
