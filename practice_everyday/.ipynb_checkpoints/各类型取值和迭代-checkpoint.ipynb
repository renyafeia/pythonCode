{
 "cells": [
  {
   "cell_type": "code",
   "execution_count": 10,
   "metadata": {},
   "outputs": [
    {
     "name": "stdout",
     "output_type": "stream",
     "text": [
      "[1, 3, 5, 7, 9, 11, 13, 15, 17, 19, 21, 23, 25, 27, 29, 31, 33, 35, 37, 39, 41, 43, 45, 47, 49, 51, 53, 55, 57, 59, 61, 63, 65, 67, 69, 71, 73, 75, 77, 79, 81, 83, 85, 87, 89, 91, 93, 95, 97, 99]\n"
     ]
    }
   ],
   "source": [
    "#构造1,3,5,7,...,99列表\n",
    "l = []\n",
    "\n",
    "for i in range(100):\n",
    "    if i % 2 != 0:\n",
    "        \n",
    "        l.append(i)\n",
    "        #print(id(l))\n",
    "print(l)"
   ]
  },
  {
   "cell_type": "code",
   "execution_count": 14,
   "metadata": {},
   "outputs": [
    {
     "data": {
      "text/plain": [
       "[97, 99]"
      ]
     },
     "execution_count": 14,
     "metadata": {},
     "output_type": "execute_result"
    }
   ],
   "source": [
    "#取一个list或tuple的部分元素\n",
    "l[0:3]\n",
    "l[:3]\n",
    "l[-2:-1]#取出倒数第二个元素\n",
    "l[-2:]#取出最后两个元素\n",
    "\n",
    "\n",
    "#元组和列表一样都可以通过切片获取元素\n",
    "#字符串也可以通过切片获取元素，Python没有针对字符串的截取函数，只需要切片一个操作就可以完成，非常简单。\n",
    "    "
   ]
  },
  {
   "cell_type": "code",
   "execution_count": 16,
   "metadata": {},
   "outputs": [
    {
     "data": {
      "text/plain": [
       "'ACEG'"
      ]
     },
     "execution_count": 16,
     "metadata": {},
     "output_type": "execute_result"
    }
   ],
   "source": [
    "'ABCDEFG'[:3]\n",
    "'ABCDEFG'[::2]"
   ]
  },
  {
   "cell_type": "code",
   "execution_count": 30,
   "metadata": {},
   "outputs": [
    {
     "name": "stdout",
     "output_type": "stream",
     "text": [
      "1\n",
      "-3\n",
      "hello\n"
     ]
    }
   ],
   "source": [
    "#利用切片操作，实现一个trim()函数，去除字符串首尾的空格，注意不要调用str的strip()方法：\n",
    "#找到第一个不是空格的下标，找到最后一个不是空格的下标，然后取切片\n",
    "def trim(s):\n",
    "    begin = 0\n",
    "    end = 0\n",
    "    for i in range(len(s)):\n",
    "        if s[i] == ' ':\n",
    "            continue         \n",
    "        else:\n",
    "            begin = i\n",
    "            break\n",
    "            \n",
    "    for i in range(len(s)):\n",
    "        if s[-i] == ' ':\n",
    "            continue         \n",
    "        else:\n",
    "            end = -i\n",
    "            break\n",
    "    print(begin)\n",
    "    print(end)\n",
    "    return s[begin:end+1]\n",
    "test = ' hello  '\n",
    "print(trim(test))\n"
   ]
  },
  {
   "cell_type": "code",
   "execution_count": 35,
   "metadata": {},
   "outputs": [
    {
     "name": "stdout",
     "output_type": "stream",
     "text": [
      "a\n",
      "b\n",
      "c\n",
      "1\n",
      "2\n",
      "3\n",
      "a\n",
      "1\n",
      "b\n",
      "2\n",
      "c\n",
      "3\n"
     ]
    }
   ],
   "source": [
    "#dict迭代,默认情况下，dict迭代的是key\n",
    "d = {'a': 1,'b': 2,'c': 3}\n",
    "for key in d:\n",
    "    print(key)\n",
    "#如果要迭代value，可以用for value in d.values()\n",
    "for value in d.values():\n",
    "    print(value)\n",
    "    \n",
    "#如果要同时迭代key和value,可以用for k,v in d.items()\n",
    "for k,v in d.items():\n",
    "    print(k)\n",
    "    print(v)"
   ]
  },
  {
   "cell_type": "code",
   "execution_count": 37,
   "metadata": {},
   "outputs": [
    {
     "name": "stdout",
     "output_type": "stream",
     "text": [
      "A\n",
      "B\n",
      "C\n"
     ]
    }
   ],
   "source": [
    "#字符串也是可迭代对象，因此可以作用于for循环\n",
    "for ch in 'ABC':\n",
    "    print(ch)\n",
    "    \n"
   ]
  },
  {
   "cell_type": "code",
   "execution_count": 40,
   "metadata": {},
   "outputs": [
    {
     "data": {
      "text/plain": [
       "False"
      ]
     },
     "execution_count": 40,
     "metadata": {},
     "output_type": "execute_result"
    }
   ],
   "source": [
    "#所以，当我们使用for循环时，只要作用于一个可迭代对象，for循环就可以正常运行，而我们不太关心改对象究竟是List还是其他数据类型\n",
    "#那么，如何判断一个对象是可迭代对象呢？方法是通过collections模块的Iterable类型来判断\n",
    "from collections import Iterable\n",
    "isinstance('abc',Iterable)\n",
    "isinstance([1,2,3],Iterable)\n",
    "isinstance(123,Iterable)"
   ]
  },
  {
   "cell_type": "code",
   "execution_count": 43,
   "metadata": {},
   "outputs": [
    {
     "name": "stdout",
     "output_type": "stream",
     "text": [
      "0 A\n",
      "1 B\n",
      "1\n",
      "2\n",
      "3\n"
     ]
    }
   ],
   "source": [
    "#列表循环,enumerate函数可以把一个list变成索引-元素对\n",
    "for i,value in enumerate(['A','B']):\n",
    "    print(i,value)\n",
    "\n",
    "for i in [1,2,3]:\n",
    "    print(i)\n"
   ]
  },
  {
   "cell_type": "code",
   "execution_count": 42,
   "metadata": {},
   "outputs": [
    {
     "name": "stdout",
     "output_type": "stream",
     "text": [
      "1 1\n",
      "2 3\n",
      "3 9\n"
     ]
    }
   ],
   "source": [
    "#上面的for循环里，同时引用； 两个变量，在python里是很常见的，比如\n",
    "for x,y in [(1,1),(2,3),(3,9)]:\n",
    "    print(x,y)"
   ]
  }
 ],
 "metadata": {
  "kernelspec": {
   "display_name": "Python 3",
   "language": "python",
   "name": "python3"
  },
  "language_info": {
   "codemirror_mode": {
    "name": "ipython",
    "version": 3
   },
   "file_extension": ".py",
   "mimetype": "text/x-python",
   "name": "python",
   "nbconvert_exporter": "python",
   "pygments_lexer": "ipython3",
   "version": "3.6.1"
  }
 },
 "nbformat": 4,
 "nbformat_minor": 2
}
