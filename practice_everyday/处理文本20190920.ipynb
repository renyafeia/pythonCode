{
 "cells": [
  {
   "cell_type": "code",
   "execution_count": 19,
   "metadata": {},
   "outputs": [],
   "source": [
    "#-*-utf-8-*-\n",
    "\n",
    "def process(dir_r,dir_w):\n",
    "    file_r = open(dir_r,encoding='utf-8')\n",
    "    file_w = open(dir_w,'w',encoding='utf-8')\n",
    "    \n",
    "    \n",
    "    for line in file_r.readlines():\n",
    "        temp = line.strip()\n",
    "        #print(temp)\n",
    "#         if temp[-1]==',':\n",
    "#             temps += temp\n",
    "#         else:temps = temp\n",
    "        file_w.write(temp+'\\n')\n",
    "        \n",
    "    file_r.close()\n",
    "    file_w.close()\n",
    "        \n",
    "        \n",
    "dir_r = 'F:\\\\建模\\\\市场\\\\需求1-于学亮\\\\20190919\\\\m_bd_market_pro_efficiency_analysis.hql'\n",
    "dir_w = 'F:\\\\建模\\\\市场\\\\需求1-于学亮\\\\20190919\\\\test1.txt'\n",
    "\n",
    "process(dir_r,dir_w)       \n",
    "        \n",
    "        \n",
    "    "
   ]
  },
  {
   "cell_type": "code",
   "execution_count": 23,
   "metadata": {},
   "outputs": [],
   "source": [
    "def process(dir_r,dir_w):\n",
    "    file_r = open(dir_r,encoding='utf-8')\n",
    "    file_w = open(dir_w,'w',encoding='utf-8')\n",
    "    \n",
    "    \n",
    "    for line in file_r.readlines():\n",
    "        temp = line.strip()\n",
    "        #print(temp)\n",
    "        if len(temp)>0 and temp[-1]==',':\n",
    "            file_w.write(temp)\n",
    "        else:file_w.write(temp+'\\n')\n",
    "            \n",
    "        \n",
    "        \n",
    "    file_r.close()\n",
    "    file_w.close()\n",
    "        \n",
    "        \n",
    "dir_r = 'F:\\\\建模\\\\市场\\\\需求1-于学亮\\\\20190919\\\\test1.txt'\n",
    "dir_w = 'F:\\\\建模\\\\市场\\\\需求1-于学亮\\\\20190919\\\\test2.hql'\n",
    "\n",
    "process(dir_r,dir_w)"
   ]
  },
  {
   "cell_type": "code",
   "execution_count": 17,
   "metadata": {},
   "outputs": [],
   "source": [
    "dir_w = 'F:\\\\建模\\\\市场\\\\需求1-于学亮\\\\20190919\\\\test1.txt'\n",
    "# with open(dir_w,'w') as f:\n",
    "#     f.write('test21111')\n",
    "file_w = open(dir_w,'w',encoding='utf-8')\n",
    "file_w.write('rrrr')\n",
    "file_w.close()\n",
    "    "
   ]
  },
  {
   "cell_type": "code",
   "execution_count": 22,
   "metadata": {},
   "outputs": [
    {
     "data": {
      "text/plain": [
       "2"
      ]
     },
     "execution_count": 22,
     "metadata": {},
     "output_type": "execute_result"
    }
   ],
   "source": [
    "str1 = 'aa'\n",
    "len(str1)"
   ]
  }
 ],
 "metadata": {
  "kernelspec": {
   "display_name": "Python 3",
   "language": "python",
   "name": "python3"
  },
  "language_info": {
   "codemirror_mode": {
    "name": "ipython",
    "version": 3
   },
   "file_extension": ".py",
   "mimetype": "text/x-python",
   "name": "python",
   "nbconvert_exporter": "python",
   "pygments_lexer": "ipython3",
   "version": "3.6.1"
  }
 },
 "nbformat": 4,
 "nbformat_minor": 2
}
