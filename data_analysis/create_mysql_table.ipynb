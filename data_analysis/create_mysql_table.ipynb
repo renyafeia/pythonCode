{
 "cells": [
  {
   "cell_type": "code",
   "execution_count": 30,
   "metadata": {
    "collapsed": true
   },
   "outputs": [],
   "source": [
    "import pymysql.cursors\n",
    "#拼sql\n",
    "\n",
    "#dir 文件路径；\n",
    "#table_name；表名\n",
    "def create_table_to_mysql(dir, table_name):\n",
    "    #拼sql\n",
    "    file = open(dir)\n",
    "    sql = 'create table `' + table_name +'`(\\n'\n",
    "    \n",
    "\n",
    "    for line in file.readlines():\n",
    "        temp = line.strip().split('\\t')\n",
    "        #print(temp)\n",
    "        if temp[1] == 'string':\n",
    "            sql += '`' + temp[0].strip() + '`' + ' varchar(100),\\n'\n",
    "        elif temp[1] == 'double':\n",
    "            sql += '`' + temp[0].strip() + '`' + ' decimal(20,2),\\n'\n",
    "    file.close()    \n",
    "    sql2 = sql[0:-2] + ')'  \n",
    "    print(sql2)\n",
    "    #连数据库\n",
    "    \n",
    "    connection = pymysql.connect(host='10.38.64.57', port = 3306, user = 'root', passwd='2wsx1qaz',db='fico',charset='utf8mb4',cursorclass=pymysql.cursors.DictCursor)\n",
    "    #建表\n",
    "    try:\n",
    "        cursor = connection.cursor()\n",
    "        cursor.execute(sql2)\n",
    "        #result = cursor.fetcheall()\n",
    "    except Exception:\n",
    "        print('查询失败')\n",
    "    finally:\n",
    "        cursor.close()\n",
    "        connection.close()\n",
    "\n",
    "\n",
    "\n",
    "    #连数据库\n",
    "\n",
    "\n",
    "    #建表"
   ]
  },
  {
   "cell_type": "code",
   "execution_count": 34,
   "metadata": {},
   "outputs": [
    {
     "name": "stdout",
     "output_type": "stream",
     "text": [
      "create table `fico_icome_yue_sum_h`(\n",
      "`comp_code` varchar(100),\n",
      "`comp_code_txt` varchar(100),\n",
      "`cpmo_cop` varchar(100),\n",
      "`cpmo_cop_txt` varchar(100),\n",
      "`xa_reig` varchar(100),\n",
      "`xa_reig_txt` varchar(100),\n",
      "`pernr` varchar(100),\n",
      "`zuonr` varchar(100),\n",
      "`wrbtr` decimal(20,2),\n",
      "`update_time` varchar(100))\n"
     ]
    }
   ],
   "source": [
    "dir = '../data/fico_icome_yue_sum_h.txt' \n",
    "table_name = 'fico_icome_yue_sum_h'\n",
    "create_table_to_mysql(dir,table_name)"
   ]
  }
 ],
 "metadata": {
  "kernelspec": {
   "display_name": "Python 3",
   "language": "python",
   "name": "python3"
  },
  "language_info": {
   "codemirror_mode": {
    "name": "ipython",
    "version": 3
   },
   "file_extension": ".py",
   "mimetype": "text/x-python",
   "name": "python",
   "nbconvert_exporter": "python",
   "pygments_lexer": "ipython3",
   "version": "3.6.1"
  }
 },
 "nbformat": 4,
 "nbformat_minor": 2
}
