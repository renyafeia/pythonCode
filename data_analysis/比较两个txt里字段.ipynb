{
 "cells": [
  {
   "cell_type": "code",
   "execution_count": 2,
   "metadata": {},
   "outputs": [],
   "source": [
    "icome_dir = 'F:\\\\建模\\\\市场\\\\需求1-于学亮\\\\20190919\\\\icome_mar_bu_info.txt'\n",
    "hive_dir = 'F:\\\\建模\\\\市场\\\\需求1-于学亮\\\\20190919\\\\mar_bu_info_hive.txt'\n",
    "\n",
    "file_icome = open(icome_dir)\n",
    "hive_file = open(hive_dir)"
   ]
  },
  {
   "cell_type": "code",
   "execution_count": null,
   "metadata": {
    "collapsed": true
   },
   "outputs": [],
   "source": [
    "for line in file_icome.readlines():\n",
    "    "
   ]
  }
 ],
 "metadata": {
  "kernelspec": {
   "display_name": "Python 3",
   "language": "python",
   "name": "python3"
  },
  "language_info": {
   "codemirror_mode": {
    "name": "ipython",
    "version": 3
   },
   "file_extension": ".py",
   "mimetype": "text/x-python",
   "name": "python",
   "nbconvert_exporter": "python",
   "pygments_lexer": "ipython3",
   "version": "3.6.1"
  }
 },
 "nbformat": 4,
 "nbformat_minor": 2
}
