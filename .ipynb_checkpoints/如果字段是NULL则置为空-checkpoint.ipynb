{
 "cells": [
  {
   "cell_type": "code",
   "execution_count": 1,
   "metadata": {
    "collapsed": true
   },
   "outputs": [],
   "source": [
    "#col_names需要进行处理的字段\n",
    "#hive_hql语句\n",
    "#假如需要将字段a处理，如果a为null则置为空\n",
    "#将*.a，或者 a,这种模式的替换为nvl(*.a,'')a,\n",
    "sql = 'select nvl(sale_order.PROCESS,'')PROCESS,sale_order.endtime,update_time from model_ennenergy_fico.m_bd_fico_buildhk_detail_h buildhk;'\n",
    "#假如要替换endtime\n",
    "import re\n",
    "\n"
   ]
  },
  {
   "cell_type": "code",
   "execution_count": 12,
   "metadata": {},
   "outputs": [
    {
     "name": "stdout",
     "output_type": "stream",
     "text": [
      "['.endtime']\n"
     ]
    }
   ],
   "source": [
    "#要匹配‘.endtime’,或者'endtime’,即前面有0个或一个或多个.  则用\\.*\n",
    "#*表示0个或一个或多个\n",
    "ret = re.findall('\\.*endtime',sql)\n",
    "print(ret)"
   ]
  },
  {
   "cell_type": "code",
   "execution_count": null,
   "metadata": {},
   "outputs": [],
   "source": [
    "#匹配,知道了字段名，要匹配 表名.字段名 或者 字段名\n",
    "sql = 'select payendtime, endtime,sale_order.endtime from model_ennenergy_fico.m_bd_fico_buildhk_detail_h;'\n",
    "re.findall(r'([a-zA-Z0-9_]+)*endtime',sql)\n",
    "#re.sub('\\.*endtime','nvl(\\.*endtime,'')',sql1)"
   ]
  },
  {
   "cell_type": "code",
   "execution_count": 27,
   "metadata": {},
   "outputs": [
    {
     "data": {
      "text/plain": [
       "'endtime'"
      ]
     },
     "execution_count": 27,
     "metadata": {},
     "output_type": "execute_result"
    }
   ],
   "source": [
    "m = re.search('([a-z_]+\\.+endtime',sql)\n",
    "m.group(0)"
   ]
  }
 ],
 "metadata": {
  "kernelspec": {
   "display_name": "Python 3",
   "language": "python",
   "name": "python3"
  },
  "language_info": {
   "codemirror_mode": {
    "name": "ipython",
    "version": 3
   },
   "file_extension": ".py",
   "mimetype": "text/x-python",
   "name": "python",
   "nbconvert_exporter": "python",
   "pygments_lexer": "ipython3",
   "version": "3.6.1"
  }
 },
 "nbformat": 4,
 "nbformat_minor": 2
}
